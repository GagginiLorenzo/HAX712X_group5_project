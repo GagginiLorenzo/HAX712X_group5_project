{
  "cells": [
    {
      "cell_type": "markdown",
      "metadata": {},
      "source": [
        "import folium\n",
        "from ipywidgets import interact\n",
        "\n",
        "# Coordonnées des principales villes de l'Occitanie\n",
        "# Coordonnées approximatives pour englober la région Occitanie\n",
        "coordonnees_occitanie = [43.5, 2.0]  # Centre de la région\n",
        "\n",
        "# Fonction qui crée la carte avec la région Occitanie centrée\n",
        "def create_map_occitanie():\n",
        "    ma_carte_occitanie = folium.Map(location=coordonnees_occitanie, zoom_start=8)\n",
        "    \n",
        "    # Ajoutez des marqueurs ou des éléments supplémentaires si nécessaire\n",
        "    \n",
        "    # Enregistrez la carte dans un fichier HTML\n",
        "    ma_carte_occitanie.save('ma_carte_interactive_occitanie.html')\n",
        "\n",
        "# Créez la carte de la région Occitanie\n",
        "create_map_occitanie()"
      ],
      "id": "8fd136ad"
    }
  ],
  "metadata": {
    "kernelspec": {
      "name": "python3",
      "language": "python",
      "display_name": "Python 3 (ipykernel)"
    }
  },
  "nbformat": 4,
  "nbformat_minor": 5
}